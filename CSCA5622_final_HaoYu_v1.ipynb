{
 "cells": [
  {
   "cell_type": "markdown",
   "id": "7a0aa234-258a-4148-a548-e821cdc9fce9",
   "metadata": {},
   "source": [
    "## Project Overview\n",
    "This project aims to develop a supervised machine learning model for **Optical Recognition of Handwritten Digits**. The dataset is sourced from the **UCI Machine Learning Repository**, where handwritten digits from 43 different individuals were collected. The dataset consists of **64 features**, representing an 8x8 pixel image of a handwritten digit (0-9). However, the dataset is relatively small, which may impact model generalization. The goal is to classify these digits accurately using machine learning models.\n",
    "\n",
    "## Result Summary\n",
    "This project used the Optical Recognition of Handwritten Digits dataset to train SVM, KNN, and Random Forest models.\n",
    "- **SVM** performed the best, achieving an accuracy of approximately **99%**.\n",
    "- **Misclassification analysis** revealed that certain digits, such as `3` and `8`, were more challenging to distinguish.\n",
    "- **Hyperparameter tuning** identified `C=10, gamma='scale'` as the optimal parameters for the SVM model.\n",
    "- Future improvements could include using **CNN (Convolutional Neural Networks)** to enhance classification performance or applying **data augmentation** to improve model generalization."
   ]
  },
  {
   "cell_type": "code",
   "execution_count": null,
   "id": "8cc9724a-34e8-4d20-a643-c256dfeddf75",
   "metadata": {},
   "outputs": [],
   "source": [
    "import numpy as np\n",
    "import pandas as pd\n",
    "import matplotlib.pyplot as plt\n",
    "import seaborn as sns\n",
    "from sklearn.model_selection import train_test_split, GridSearchCV\n",
    "from sklearn.preprocessing import MinMaxScaler\n",
    "from sklearn.svm import SVC\n",
    "from sklearn.neighbors import KNeighborsClassifier\n",
    "from sklearn.ensemble import RandomForestClassifier\n",
    "from sklearn.metrics import accuracy_score, classification_report, confusion_matrix"
   ]
  },
  {
   "cell_type": "markdown",
   "id": "54b48d66-17aa-4a37-bfff-18956ed6fbed",
   "metadata": {},
   "source": [
    "## Step 1: Load Data\n",
    "**Fetching the Optical Recognition of Handwritten Digits dataset from UCI ML Repository**"
   ]
  },
  {
   "cell_type": "code",
   "execution_count": null,
   "id": "1eae7899-b826-411e-a47a-911b1c81d859",
   "metadata": {},
   "outputs": [],
   "source": [
    "from ucimlrepo import fetch_ucirepo \n",
    "optical_recognition_of_handwritten_digits = fetch_ucirepo(id=80) \n",
    "X = optical_recognition_of_handwritten_digits.data.features \n",
    "y = optical_recognition_of_handwritten_digits.data.targets "
   ]
  },
  {
   "cell_type": "markdown",
   "id": "f7bcb458-0c4c-43f5-9dc6-2dcd258895d7",
   "metadata": {},
   "source": [
    "## Step 2: Data Exploration\n",
    "**Checking dataset shape and target distribution**"
   ]
  },
  {
   "cell_type": "code",
   "execution_count": null,
   "id": "a4bd3438-bf1b-4008-89ea-f6e6761dd23f",
   "metadata": {},
   "outputs": [],
   "source": [
    "print(\"Dataset Shape:\", X.shape)\n",
    "print(\"Target Distribution:\")\n",
    "print(y.value_counts())"
   ]
  },
  {
   "cell_type": "markdown",
   "id": "8e59bed4-e9ef-4cec-8f71-17e484d41616",
   "metadata": {},
   "source": [
    "## Step 3: Data Visualization - Sample Digits\n",
    "**Displaying a few sample images from the dataset**"
   ]
  },
  {
   "cell_type": "code",
   "execution_count": null,
   "id": "d6dc9f24-3c63-4c36-a97e-18068e5d3ac5",
   "metadata": {},
   "outputs": [],
   "source": [
    "fig, axes = plt.subplots(1, 5, figsize=(10, 3))\n",
    "sample_indices = np.random.choice(len(X), 5, replace=False)\n",
    "for i, idx in enumerate(sample_indices):\n",
    "    img = X.iloc[idx].to_numpy().reshape(8, 8)\n",
    "    axes[i].imshow(img, cmap='gray')\n",
    "    axes[i].set_title(f\"Label: {y.iloc[idx]}\")\n",
    "    axes[i].axis('off')\n",
    "plt.show()\n",
    "\n",
    "print(\"Missing values in X:\", X.isnull().sum().sum())\n",
    "print(\"Missing values in y:\", y.isnull().sum().sum())\n",
    "\n",
    "X.iloc[:, :10].hist(figsize=(10, 6), bins=16)\n",
    "plt.show()\n"
   ]
  },
  {
   "cell_type": "markdown",
   "id": "0d51041e-d7a9-4f6b-8b23-9af14761ee97",
   "metadata": {},
   "source": [
    "## Step 4: Data Preprocessing\n",
    "**Scaling the feature values to range [0,1] and splitting into training and test sets**"
   ]
  },
  {
   "cell_type": "code",
   "execution_count": null,
   "id": "e22b7227-b7ef-477f-a4e8-ab6b512a0a6d",
   "metadata": {},
   "outputs": [],
   "source": [
    "scaler = MinMaxScaler()\n",
    "X_scaled = scaler.fit_transform(X)\n",
    "X_train, X_test, y_train, y_test = train_test_split(X_scaled, y, test_size=0.2, random_state=42, stratify=y)"
   ]
  },
  {
   "cell_type": "markdown",
   "id": "60afbcba-4dca-4340-93a6-b545084a2e1a",
   "metadata": {},
   "source": [
    "## Step 5: Train Models\n",
    "**Training three models: SVM, KNN, and Random Forest**"
   ]
  },
  {
   "cell_type": "code",
   "execution_count": null,
   "id": "9242d12c-d8ba-4187-9f1f-9867e4c26e70",
   "metadata": {},
   "outputs": [],
   "source": [
    "models = {\n",
    "    \"SVM\": SVC(kernel='rbf', C=10, gamma='scale', random_state=42),\n",
    "    \"KNN\": KNeighborsClassifier(n_neighbors=5),\n",
    "    \"Random Forest\": RandomForestClassifier(n_estimators=100, random_state=42)\n",
    "}\n",
    "\n",
    "results = {}\n",
    "for name, model in models.items():\n",
    "    model.fit(X_train, y_train)\n",
    "    y_pred = model.predict(X_test)\n",
    "    accuracy = accuracy_score(y_test, y_pred)\n",
    "    results[name] = accuracy\n",
    "    print(f\"{name} Accuracy: {accuracy:.4f}\")"
   ]
  },
  {
   "cell_type": "markdown",
   "id": "1d845fba-271a-4ab4-a3ea-806a7da67b2f",
   "metadata": {},
   "source": [
    "## Step 6: Model Evaluation - Confusion Matrix for Best Model (SVM)\n",
    "**Displaying confusion matrix for SVM model**"
   ]
  },
  {
   "cell_type": "code",
   "execution_count": null,
   "id": "1c0bd003-12ab-47fc-b0af-7f32a57d4449",
   "metadata": {},
   "outputs": [],
   "source": [
    "y_pred_svm = models[\"SVM\"].predict(X_test)\n",
    "cm = confusion_matrix(y_test, y_pred_svm)\n",
    "plt.figure(figsize=(8,6))\n",
    "sns.heatmap(cm, annot=True, fmt='d', cmap='Blues', xticklabels=range(10), yticklabels=range(10))\n",
    "plt.xlabel(\"Predicted Label\")\n",
    "plt.ylabel(\"True Label\")\n",
    "plt.title(\"Confusion Matrix - SVM\")\n",
    "plt.show()\n",
    "\n",
    "print(\"Classification Report - SVM:\")\n",
    "print(classification_report(y_test, y_pred_svm))"
   ]
  },
  {
   "cell_type": "markdown",
   "id": "cf14363e-5016-4799-9527-3ff6e24a87c3",
   "metadata": {},
   "source": [
    "## Step 7: Misclassified Samples Visualization\n",
    "**Visualizing some misclassified samples to understand errors**"
   ]
  },
  {
   "cell_type": "code",
   "execution_count": null,
   "id": "a2822be0-9990-44d8-8b84-dc7733590717",
   "metadata": {},
   "outputs": [],
   "source": [
    "y_test_np = np.array(y_test).ravel()\n",
    "y_pred_svm_np = np.array(y_pred_svm)\n",
    "misclassified_idx = np.where(y_test_np != y_pred_svm_np)[0]\n",
    "\n",
    "fig, axes = plt.subplots(1, min(5, len(misclassified_idx)), figsize=(10, 3))\n",
    "for i, idx in enumerate(misclassified_idx[:5]):\n",
    "    img = X_test[idx].reshape(8, 8)\n",
    "    axes[i].imshow(img, cmap='gray')\n",
    "    axes[i].set_title(f\"Pred: {y_pred_svm_np[idx]}, True: {y_test_np[idx]}\")\n",
    "    axes[i].axis('off')\n",
    "plt.show()"
   ]
  },
  {
   "cell_type": "markdown",
   "id": "b3394020-42d0-47f5-b541-b636efbdb711",
   "metadata": {},
   "source": [
    "## Step 8: Hyperparameter Tuning for SVM\n",
    "**Using GridSearchCV to find the best hyperparameters for SVM**"
   ]
  },
  {
   "cell_type": "code",
   "execution_count": null,
   "id": "172070a4-c5b3-49b8-a273-3188dfd9d1d6",
   "metadata": {},
   "outputs": [],
   "source": [
    "param_grid = {\n",
    "    'C': [0.1, 1, 10],\n",
    "    'gamma': ['scale', 'auto', 0.01, 0.001],\n",
    "    'kernel': ['rbf', 'poly']\n",
    "}\n",
    "\n",
    "grid_search = GridSearchCV(SVC(), param_grid, cv=3, scoring='accuracy', verbose=2, n_jobs=-1)\n",
    "grid_search.fit(X_train, y_train)\n",
    "print(\"Best Parameters:\", grid_search.best_params_)"
   ]
  },
  {
   "cell_type": "code",
   "execution_count": null,
   "id": "0296597b-b975-4e0d-bf03-6696d43a05aa",
   "metadata": {},
   "outputs": [],
   "source": []
  }
 ],
 "metadata": {
  "kernelspec": {
   "display_name": "Python 3 (ipykernel)",
   "language": "python",
   "name": "python3"
  },
  "language_info": {
   "codemirror_mode": {
    "name": "ipython",
    "version": 3
   },
   "file_extension": ".py",
   "mimetype": "text/x-python",
   "name": "python",
   "nbconvert_exporter": "python",
   "pygments_lexer": "ipython3",
   "version": "3.12.5"
  }
 },
 "nbformat": 4,
 "nbformat_minor": 5
}
